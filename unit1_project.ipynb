{
 "cells": [
  {
   "cell_type": "markdown",
   "metadata": {},
   "source": [
    "<img src=\"http://imgur.com/1ZcRyrc.png\" style=\"float: left; margin: 20px; height: 55px\">\n",
    "\n",
    "# Project 1: Python Coding Exercises\n",
    "\n",
    "_Authors: Joseph Nelson (DC) _\n",
    "\n",
    "---"
   ]
  },
  {
   "cell_type": "markdown",
   "metadata": {},
   "source": [
    "The following code challenges are drawn from common exercises used in technical interviews.\n",
    "\n",
    "Please note that there may be several ways to approach each challenge. If you get stuck, try mapping out your approach in pseudocode first. Finally, while solutions to problems like these may be found online, remember that if you copy/paste code that you can't explain, you'll be missing out on the point of the project. The only way to truly learn a new skill is through practice, trial, and error - we can only help you improve by understanding where you are having trouble."
   ]
  },
  {
   "cell_type": "markdown",
   "metadata": {},
   "source": [
    "### Challenge 1: Largest Palindrome\n",
    "A palindromic number reads the same both ways. For example, 1234321 is a palindrome. The largest palindrome made from the product of two two-digit numbers is 9009 = 91 × 99. Find the largest palindrome made from the product of two three-digit numbers. Afterward, write a brief explanation walking through your code's logic in markdown.h"
   ]
  },
  {
   "cell_type": "code",
   "execution_count": 10,
   "metadata": {},
   "outputs": [
    {
     "name": "stdout",
     "output_type": "stream",
     "text": [
      "580085 = 995 * 583\n"
     ]
    }
   ],
   "source": [
    "#define integer to store biggest palindrome\n",
    "big_pal = 0\n",
    "\n",
    "#multiply each 3 digit value by each 3 digit value\n",
    "for pos_mult1 in range(100,1000):\n",
    "    \n",
    "    for pos_mult2 in range(100,1000):\n",
    "        \n",
    "        product = pos_mult1 * pos_mult2\n",
    "        rev_num = ''\n",
    "        pos_check = 1\n",
    "\n",
    "        #check to see if product of 3 digit values is a palindrome by returning the value of rightmost string position and iterating leftwards\n",
    "        for position in str(product):\n",
    " \n",
    "            rev_num += str(product)[len(str(product)) - pos_check]\n",
    "            pos_check += 1 \n",
    "       \n",
    "        #if it's a palindrome, update biggest palindrome and its components until loop concludes, which should leave us with the largest palindrome\n",
    "        if rev_num == str(product):\n",
    "            big_pal = product\n",
    "            big_1 = pos_mult1\n",
    "            big_2 = pos_mult2\n",
    "\n",
    "#print biggest palindrome & its components\n",
    "print(str(big_pal) + ' = '+ str(big_1) + ' * ' + str(big_2))\n"
   ]
  },
  {
   "cell_type": "markdown",
   "metadata": {},
   "source": [
    "1 - Defines an integer we'll use to store the biggest palindrome\n",
    "2 - Multiply each 3 digit number by each 3 digit number\n",
    "3 - For each iteration, convert the product into a string\n",
    "4 - Identify the reverse of the string by locating its max position, appending that to rev_num, and iterating downwards through its positions\n",
    "5 - If the reversed number is equal to the original, it's a palindrome. Capture the numbers that identified the palindrome\n",
    "6 - Print these components"
   ]
  },
  {
   "cell_type": "markdown",
   "metadata": {},
   "source": [
    "\n",
    "### Challenge 2: Summation of Primes\n",
    "The sum of the primes below 10 is 2 + 3 + 5 + 7 = 17. Find the sum of all the primes below 2,000. Afterward, write a brief explanation walking through your code's logic in markdown."
   ]
  },
  {
   "cell_type": "code",
   "execution_count": 123,
   "metadata": {},
   "outputs": [
    {
     "name": "stdout",
     "output_type": "stream",
     "text": [
      "277050\n"
     ]
    }
   ],
   "source": [
    "#establish target number and number that will store the total sum\n",
    "target_number = 2000\n",
    "prime_sum = 0\n",
    "\n",
    "#add total prime targets\n",
    "for prime_test in range(2,target_number):\n",
    "    prime_check = 1\n",
    "    \n",
    "    #test for primes by seeing if any product of two numbers, 2 thru the prime_test, multiplies evenly. Returns 0 for such numbers\n",
    "    for prime_var in range(2,prime_test):\n",
    "        prime_check = prime_check * (prime_test % prime_var)\n",
    "    #add the non-zero numbers to prime_sum\n",
    "    if bool(prime_check):\n",
    "        prime_sum = prime_test + prime_sum\n",
    "#show the result\n",
    "print(prime_sum)"
   ]
  },
  {
   "cell_type": "markdown",
   "metadata": {},
   "source": [
    "1 - establish target number and number that will store the sum\n",
    "2 - set up a for loop that will sum the primes\n",
    "3 - tests for prime numbers by seeing if any factors divide into a given number with a modulus of 0. In such cases, prime_check will multiply by 0\n",
    "4 - Considering 0 = False, add only instances where \"prime_check\" was true\n",
    "5 - Print the result"
   ]
  },
  {
   "cell_type": "markdown",
   "metadata": {},
   "source": [
    "### Challenge 3: Multiples of 3 and 5\n",
    "If we list all of the natural numbers below 10 that are multiples of 3 or 5, we get 3, 5, 6, and 9. The sum of these multiples is 23. Find the sum of all the multiples of 3 or 5 below 1,000. Afterward, write a brief explanation walking through your code's logic in markdown."
   ]
  },
  {
   "cell_type": "code",
   "execution_count": 276,
   "metadata": {},
   "outputs": [
    {
     "name": "stdout",
     "output_type": "stream",
     "text": [
      "233168\n"
     ]
    }
   ],
   "source": [
    "#establish number that will store sum\n",
    "mult_sum = 0\n",
    "#check for multiples of 5 and 3 by seeing which numbers divide with a remainder of 0, adding those that do\n",
    "for x in range(1,1000):\n",
    "    if x % 5 == 0:\n",
    "        mult_sum = mult_sum + x\n",
    "    elif x % 3 == 0:\n",
    "        mult_sum = mult_sum + x\n",
    "print(mult_sum)"
   ]
  },
  {
   "cell_type": "markdown",
   "metadata": {},
   "source": [
    "1 - Establish number to store the sum of multiples\n",
    "2 - Check for multiples of 5 and 3 by seeing which numbers leave a remainder of 0, adding those that do"
   ]
  },
  {
   "cell_type": "markdown",
   "metadata": {},
   "source": [
    "### Challenge 4: String Compressor\n",
    "Implement a method to perform basic string compression using the counts of repeated characters. (This is called run-length encoding.) For example, the string \"aabcccccaaa\" would become a2b1c5a3. If the “compressed” string would not become smaller than the original string, your method should return the original string. You can assume the string has only uppercase and lowercase letters (a–z). Specify whether your solution is case sensitive or case insensitive and what you would need to change to make it the other. Afterward, write a brief explanation walking through your code's logic in markdown."
   ]
  },
  {
   "cell_type": "code",
   "execution_count": 274,
   "metadata": {},
   "outputs": [
    {
     "name": "stdout",
     "output_type": "stream",
     "text": [
      "Compression = j1i1m2i1e1 1j1o1h1n1s1 1m20a1g1i1c1a1l1 1s1u1b1s7\n",
      "jimmie johns mmmmmmmmmmmmmmmmmmmmagical subsssssss\n"
     ]
    }
   ],
   "source": [
    "hey = 'jimmie johns mmmmmmmmmmmmmmmmmmmmagical subsssssss'\n",
    "letter_sum = 1\n",
    "pos_check = 0\n",
    "compressed_value = ''\n",
    "\n",
    "for letter in hey:\n",
    "    if pos_check < len(hey)-1 and hey[pos_check] == hey[pos_check + 1]:\n",
    "        letter_sum += 1\n",
    "    else:\n",
    "        compressed_value = compressed_value + letter + str(letter_sum)\n",
    "        letter_sum = 1\n",
    "    pos_check += 1\n",
    "    \n",
    "if len(compressed_value) <= len(hey):\n",
    "    print('Compression = ' + compressed_value)\n",
    "else:\n",
    "    print('No Compression Needed = ' + hey)\n",
    "\n",
    "print(hey.lower())"
   ]
  },
  {
   "cell_type": "markdown",
   "metadata": {},
   "source": [
    "Compression: The code loops through the length of the string checking to see if the current string index (hey[x]) is equal to the character (hey[x+1]), adding to letter_sum if so. If that changes, the else statement adds the letter and the total count for that letter to a 'compressed value' string, which is later printed after the entire string is complete. \n",
    "\n",
    "Determines, based on string length, whether to display compressed or non-compressed value. \n",
    "\n",
    "This solution is case sensitive. To make it case insensitive, would define hey as equal to hey.lower() before entering the for loop. \n"
   ]
  },
  {
   "cell_type": "markdown",
   "metadata": {},
   "source": [
    "### Challenge 5: FizzBuzz\n",
    "\n",
    "Write a program that prints all of the numbers from 1 to 100. For multiples of 3, instead of the number, print \"Fizz;\" for multiples of 5, print \"Buzz.\" For numbers that are multiples of both 3 and 5, print \"FizzBuzz.\" Afterward, write a brief explanation walking through your code's logic in markdown."
   ]
  },
  {
   "cell_type": "code",
   "execution_count": 198,
   "metadata": {},
   "outputs": [
    {
     "name": "stdout",
     "output_type": "stream",
     "text": [
      "1 1\n",
      "2 2\n",
      "3 Fizz\n",
      "4 4\n",
      "5 Buzz\n",
      "6 Fizz\n",
      "7 7\n",
      "8 8\n",
      "9 Fizz\n",
      "10 Buzz\n",
      "11 11\n",
      "12 Fizz\n",
      "13 13\n",
      "14 14\n",
      "15 FizzBuzz\n",
      "16 16\n",
      "17 17\n",
      "18 Fizz\n",
      "19 19\n",
      "20 Buzz\n",
      "21 Fizz\n",
      "22 22\n",
      "23 23\n",
      "24 Fizz\n",
      "25 Buzz\n",
      "26 26\n",
      "27 Fizz\n",
      "28 28\n",
      "29 29\n",
      "30 FizzBuzz\n",
      "31 31\n",
      "32 32\n",
      "33 Fizz\n",
      "34 34\n",
      "35 Buzz\n",
      "36 Fizz\n",
      "37 37\n",
      "38 38\n",
      "39 Fizz\n",
      "40 Buzz\n",
      "41 41\n",
      "42 Fizz\n",
      "43 43\n",
      "44 44\n",
      "45 FizzBuzz\n",
      "46 46\n",
      "47 47\n",
      "48 Fizz\n",
      "49 49\n",
      "50 Buzz\n",
      "51 Fizz\n",
      "52 52\n",
      "53 53\n",
      "54 Fizz\n",
      "55 Buzz\n",
      "56 56\n",
      "57 Fizz\n",
      "58 58\n",
      "59 59\n",
      "60 FizzBuzz\n",
      "61 61\n",
      "62 62\n",
      "63 Fizz\n",
      "64 64\n",
      "65 Buzz\n",
      "66 Fizz\n",
      "67 67\n",
      "68 68\n",
      "69 Fizz\n",
      "70 Buzz\n",
      "71 71\n",
      "72 Fizz\n",
      "73 73\n",
      "74 74\n",
      "75 FizzBuzz\n",
      "76 76\n",
      "77 77\n",
      "78 Fizz\n",
      "79 79\n",
      "80 Buzz\n",
      "81 Fizz\n",
      "82 82\n",
      "83 83\n",
      "84 Fizz\n",
      "85 Buzz\n",
      "86 86\n",
      "87 Fizz\n",
      "88 88\n",
      "89 89\n",
      "90 FizzBuzz\n",
      "91 91\n",
      "92 92\n",
      "93 Fizz\n",
      "94 94\n",
      "95 Buzz\n",
      "96 Fizz\n",
      "97 97\n",
      "98 98\n",
      "99 Fizz\n",
      "100 Buzz\n"
     ]
    }
   ],
   "source": [
    "for x in range(1,101):\n",
    "    if not bool(x%5) and not bool(x%3):\n",
    "        outcome = \"FizzBuzz\"\n",
    "    elif not bool(x%3):\n",
    "        outcome = \"Fizz\"\n",
    "    elif not bool(x%5):\n",
    "        outcome = \"Buzz\"\n",
    "    else: outcome = x\n",
    "        \n",
    "    print(str(x) + ' ' + str(outcome))"
   ]
  },
  {
   "cell_type": "markdown",
   "metadata": {},
   "source": [
    "The code evaluates the fizz buzz criteria first to look for multiples of both 3 and 5. If it cannot find those, itlooks for multiples of 3 and 5 individually and applies the appropriate \"fizz\", \"buzz\", or \"fizzbuzz\" moniker. Range starts at 1 and concludes at 100. "
   ]
  }
 ],
 "metadata": {
  "anaconda-cloud": {},
  "kernelspec": {
   "display_name": "Python 3",
   "language": "python",
   "name": "python3"
  },
  "language_info": {
   "codemirror_mode": {
    "name": "ipython",
    "version": 3
   },
   "file_extension": ".py",
   "mimetype": "text/x-python",
   "name": "python",
   "nbconvert_exporter": "python",
   "pygments_lexer": "ipython3",
   "version": "3.6.4"
  }
 },
 "nbformat": 4,
 "nbformat_minor": 2
}
